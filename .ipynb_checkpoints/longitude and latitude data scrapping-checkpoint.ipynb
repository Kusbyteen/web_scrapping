{
 "cells": [
  {
   "cell_type": "code",
   "execution_count": 1,
   "id": "5cf5146c",
   "metadata": {},
   "outputs": [],
   "source": [
    "# importing libraries\n",
    "import pandas as pd\n",
    "from geopy.geocoders import Nominatim"
   ]
  },
  {
   "cell_type": "code",
   "execution_count": 2,
   "id": "d35c2950",
   "metadata": {},
   "outputs": [],
   "source": [
    "goelocator = Nominatim(user_agent=\"Adam Abdul-Ganew Tendaana\")\n",
    "df = pd.read_csv(\"clean_ptdf_scholarship.csv\")"
   ]
  },
  {
   "cell_type": "code",
   "execution_count": 3,
   "id": "3d736f1f",
   "metadata": {},
   "outputs": [
    {
     "data": {
      "text/plain": [
       "0"
      ]
     },
     "execution_count": 3,
     "metadata": {},
     "output_type": "execute_result"
    }
   ],
   "source": [
    "df.State.isnull().sum()"
   ]
  },
  {
   "cell_type": "code",
   "execution_count": 5,
   "id": "2dfe1738",
   "metadata": {},
   "outputs": [
    {
     "data": {
      "text/plain": [
       "Kaduna     2763\n",
       "Adamawa    1842\n",
       "Edo         921\n",
       "Kogi        921\n",
       "Kebbi       921\n",
       "Imo         921\n",
       "Lagos       921\n",
       "Name: State, dtype: int64"
      ]
     },
     "execution_count": 5,
     "metadata": {},
     "output_type": "execute_result"
    }
   ],
   "source": [
    "df.State.value_counts()"
   ]
  },
  {
   "cell_type": "code",
   "execution_count": 6,
   "id": "82a1980b",
   "metadata": {},
   "outputs": [],
   "source": [
    "state_location = []\n",
    "for state in df[\"State\"].unique():\n",
    "    locations = goelocator.geocode(state) \n",
    "    state_location.append(locations)"
   ]
  },
  {
   "cell_type": "code",
   "execution_count": null,
   "id": "f4c734cb",
   "metadata": {},
   "outputs": [],
   "source": []
  }
 ],
 "metadata": {
  "kernelspec": {
   "display_name": "Python 3 (ipykernel)",
   "language": "python",
   "name": "python3"
  },
  "language_info": {
   "codemirror_mode": {
    "name": "ipython",
    "version": 3
   },
   "file_extension": ".py",
   "mimetype": "text/x-python",
   "name": "python",
   "nbconvert_exporter": "python",
   "pygments_lexer": "ipython3",
   "version": "3.9.12"
  }
 },
 "nbformat": 4,
 "nbformat_minor": 5
}
