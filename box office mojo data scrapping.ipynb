{
 "cells": [
  {
   "cell_type": "code",
   "execution_count": 1,
   "id": "af53203e",
   "metadata": {},
   "outputs": [],
   "source": [
    "# importing libraries\n",
    "import requests as re\n",
    "from requests_html import HTMLSession\n",
    "from requests_html import HTML\n",
    "from bs4 import BeautifulSoup as bs\n",
    "import pandas as pd\n",
    "from datetime import datetime as dt\n",
    "import os"
   ]
  },
  {
   "cell_type": "code",
   "execution_count": 2,
   "id": "01e96830",
   "metadata": {},
   "outputs": [
    {
     "name": "stdout",
     "output_type": "stream",
     "text": [
      "2022-08-22\n"
     ]
    }
   ],
   "source": [
    "BASE_DIR = os.path.dirname('__file__')\n",
    "now = dt.now().date()\n",
    "print(now)"
   ]
  },
  {
   "cell_type": "code",
   "execution_count": 2,
   "id": "4b053f75",
   "metadata": {},
   "outputs": [],
   "source": [
    "url = \"https://www.boxofficemojo.com/year/world/?ref_=bo_nb_hm_tabbo\"\n",
    "def url_to_txt(url, filename=\"world.html\", save=True):\n",
    "    r = re.get(url)\n",
    "    if r.status_code == 200:\n",
    "        html_text = r.content\n",
    "        if save:\n",
    "            with open(filename, \"wb\") as f:\n",
    "                f.write(html_text)\n",
    "            return html_text\n",
    "           \n",
    "def run(start_year=None, years_ago=10):\n",
    "    if start_year == None:\n",
    "        year = datetime.now().year()\n",
    "\n",
    "    assert isinstance(start_year, int)"
   ]
  },
  {
   "cell_type": "raw",
   "id": "9186dec3",
   "metadata": {},
   "source": [
    "r_html = HTML(html=html_text)\n",
    "table_class = \".imdb-scroll-table\"\n",
    "r_html.find(table_class)"
   ]
  },
  {
   "cell_type": "code",
   "execution_count": null,
   "id": "8a26c69c",
   "metadata": {},
   "outputs": [],
   "source": [
    "html_text =  url_to_txt(url)\n",
    "r_html = HTML(html=html_text)\n",
    "table_class = \".imdb-scroll-table\"\n",
    "r_table = r_html.find(table_class)\n",
    "if len(r_table) == 1:\n",
    "    pasrsed_table = r_table[0]\n",
    "    rows = parsed_table.find(\"tr\")\n",
    "    row_data = []\n",
    "    for row in rows[1:]:\n",
    "        cols = row.find(\"td\")\n",
    "        for col in cols:\n",
    "            row_data.append(col.text)\n",
    "row_data"
   ]
  },
  {
   "cell_type": "raw",
   "id": "b9077f93",
   "metadata": {},
   "source": [
    "#def parse_and_extract(url, name=\"2020\"):\n",
    "html_text =  url_to_txt(url)\n",
    "r_html = HTML(html=html_text)\n",
    "table_class = \".imdb-scroll-table\"\n",
    "r_html.find(table_class)\n",
    "r_table = r_html.find(table_class)\n",
    "if len(r_table) == 1:\n",
    "    #print(r_table[0].text)\n",
    "    parsed_table = r_table[0]\n",
    "    rows = parsed_table.find(\"tr\")\n",
    "\n",
    "    header_row = rows[0]\n",
    "    header_cols = header_row.find(\"th\")\n",
    "\n",
    "\n",
    "    header_name = [x.text for x in header_cols]\n",
    "    table_data = []\n",
    "    for row in rows[1:]:\n",
    "        cols = row.find(\"td\")\n",
    "        row_data = []\n",
    "        for col in cols:\n",
    "            #print(i, x.text, '\\n\\n')\n",
    "            row_data.append(col.text)\n",
    "        table_data.append(row_data)  \n",
    "    df = pd.DataFrame(table_data, columns= header_name)\n",
    "    os.makedirs(path, exist_ok=True)\n",
    "    filepath = os.path.join(\"data\", f\"{name}.csv\")\n",
    "\n",
    "#parse_and_extract(url, name=\"2020\")"
   ]
  },
  {
   "cell_type": "code",
   "execution_count": 12,
   "id": "03f9e435",
   "metadata": {},
   "outputs": [],
   "source": [
    "\n",
    "for i in range(2010, 2022):\n",
    "    for item in table_data.find_all(\"tr\"):\n",
    "        rows = item.find_all(\"td\")\n",
    "        data = [row.text.strip() for row in rows]\n",
    "        row_data.append(data)\n",
    "    next_url = f\"https://www.boxofficemojo.com/year/world/{str(i)}\" \n",
    "    url = nex_url\n",
    "    print(url)"
   ]
  },
  {
   "cell_type": "code",
   "execution_count": 16,
   "id": "caebb008",
   "metadata": {},
   "outputs": [],
   "source": [
    "table_header = []\n",
    "for h in table_data.find_all(\"th\"):\n",
    "    head = h.text.strip()\n",
    "    table_header.append(head)"
   ]
  },
  {
   "cell_type": "code",
   "execution_count": 17,
   "id": "e53884b7",
   "metadata": {},
   "outputs": [],
   "source": [
    "df = pd.DataFrame(row_data, columns=table_header)"
   ]
  },
  {
   "cell_type": "code",
   "execution_count": 18,
   "id": "61f91e7d",
   "metadata": {},
   "outputs": [
    {
     "data": {
      "text/html": [
       "<div>\n",
       "<style scoped>\n",
       "    .dataframe tbody tr th:only-of-type {\n",
       "        vertical-align: middle;\n",
       "    }\n",
       "\n",
       "    .dataframe tbody tr th {\n",
       "        vertical-align: top;\n",
       "    }\n",
       "\n",
       "    .dataframe thead th {\n",
       "        text-align: right;\n",
       "    }\n",
       "</style>\n",
       "<table border=\"1\" class=\"dataframe\">\n",
       "  <thead>\n",
       "    <tr style=\"text-align: right;\">\n",
       "      <th></th>\n",
       "      <th>Rank</th>\n",
       "      <th>Release Group</th>\n",
       "      <th>Worldwide</th>\n",
       "      <th>Domestic</th>\n",
       "      <th>%</th>\n",
       "      <th>Foreign</th>\n",
       "      <th>%</th>\n",
       "    </tr>\n",
       "  </thead>\n",
       "  <tbody>\n",
       "    <tr>\n",
       "      <th>0</th>\n",
       "      <td>None</td>\n",
       "      <td>None</td>\n",
       "      <td>None</td>\n",
       "      <td>None</td>\n",
       "      <td>None</td>\n",
       "      <td>None</td>\n",
       "      <td>None</td>\n",
       "    </tr>\n",
       "    <tr>\n",
       "      <th>1</th>\n",
       "      <td>1</td>\n",
       "      <td>Top Gun: Maverick</td>\n",
       "      <td>$1,403,375,000</td>\n",
       "      <td>$683,375,000</td>\n",
       "      <td>48.7%</td>\n",
       "      <td>$720,000,000</td>\n",
       "      <td>51.3%</td>\n",
       "    </tr>\n",
       "    <tr>\n",
       "      <th>2</th>\n",
       "      <td>2</td>\n",
       "      <td>Jurassic World Dominion</td>\n",
       "      <td>$984,727,000</td>\n",
       "      <td>$373,873,000</td>\n",
       "      <td>38%</td>\n",
       "      <td>$610,854,000</td>\n",
       "      <td>62%</td>\n",
       "    </tr>\n",
       "    <tr>\n",
       "      <th>3</th>\n",
       "      <td>3</td>\n",
       "      <td>Doctor Strange in the Multiverse of Madness</td>\n",
       "      <td>$954,998,698</td>\n",
       "      <td>$411,331,607</td>\n",
       "      <td>43.1%</td>\n",
       "      <td>$543,667,091</td>\n",
       "      <td>56.9%</td>\n",
       "    </tr>\n",
       "    <tr>\n",
       "      <th>4</th>\n",
       "      <td>4</td>\n",
       "      <td>Minions: The Rise of Gru</td>\n",
       "      <td>$833,623,000</td>\n",
       "      <td>$350,037,000</td>\n",
       "      <td>42%</td>\n",
       "      <td>$483,586,000</td>\n",
       "      <td>58%</td>\n",
       "    </tr>\n",
       "  </tbody>\n",
       "</table>\n",
       "</div>"
      ],
      "text/plain": [
       "   Rank                                Release Group       Worldwide  \\\n",
       "0  None                                         None            None   \n",
       "1     1                            Top Gun: Maverick  $1,403,375,000   \n",
       "2     2                      Jurassic World Dominion    $984,727,000   \n",
       "3     3  Doctor Strange in the Multiverse of Madness    $954,998,698   \n",
       "4     4                     Minions: The Rise of Gru    $833,623,000   \n",
       "\n",
       "       Domestic      %       Foreign      %  \n",
       "0          None   None          None   None  \n",
       "1  $683,375,000  48.7%  $720,000,000  51.3%  \n",
       "2  $373,873,000    38%  $610,854,000    62%  \n",
       "3  $411,331,607  43.1%  $543,667,091  56.9%  \n",
       "4  $350,037,000    42%  $483,586,000    58%  "
      ]
     },
     "execution_count": 18,
     "metadata": {},
     "output_type": "execute_result"
    }
   ],
   "source": [
    "df.head()"
   ]
  },
  {
   "cell_type": "code",
   "execution_count": null,
   "id": "62f4eee7",
   "metadata": {},
   "outputs": [],
   "source": []
  }
 ],
 "metadata": {
  "kernelspec": {
   "display_name": "Python 3 (ipykernel)",
   "language": "python",
   "name": "python3"
  },
  "language_info": {
   "codemirror_mode": {
    "name": "ipython",
    "version": 3
   },
   "file_extension": ".py",
   "mimetype": "text/x-python",
   "name": "python",
   "nbconvert_exporter": "python",
   "pygments_lexer": "ipython3",
   "version": "3.9.12"
  }
 },
 "nbformat": 4,
 "nbformat_minor": 5
}
