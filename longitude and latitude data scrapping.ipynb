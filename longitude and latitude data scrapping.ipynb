{
 "cells": [
  {
   "cell_type": "code",
   "execution_count": 2,
   "id": "c70d4210",
   "metadata": {},
   "outputs": [],
   "source": [
    "# importing libraries\n",
    "import pandas as pd\n",
    "from geopy.geocoders import Nominatim"
   ]
  },
  {
   "cell_type": "code",
   "execution_count": 3,
   "id": "ed2a035b",
   "metadata": {},
   "outputs": [],
   "source": [
    "goelocator = Nominatim(user_agent=\"Adam Abdul-Ganew Tendaana\")\n",
    "df = pd.read_csv(\"clean_ptdf_scholarship.csv\")"
   ]
  },
  {
   "cell_type": "code",
   "execution_count": 4,
   "id": "a6954f10",
   "metadata": {},
   "outputs": [
    {
     "data": {
      "text/plain": [
       "0"
      ]
     },
     "execution_count": 4,
     "metadata": {},
     "output_type": "execute_result"
    }
   ],
   "source": [
    "df.State.isnull().sum()"
   ]
  },
  {
   "cell_type": "code",
   "execution_count": 5,
   "id": "bf335f00",
   "metadata": {},
   "outputs": [
    {
     "data": {
      "text/plain": [
       "Kaduna     2763\n",
       "Adamawa    1842\n",
       "Edo         921\n",
       "Kogi        921\n",
       "Kebbi       921\n",
       "Imo         921\n",
       "Lagos       921\n",
       "Name: State, dtype: int64"
      ]
     },
     "execution_count": 5,
     "metadata": {},
     "output_type": "execute_result"
    }
   ],
   "source": [
    "df.State.value_counts()"
   ]
  },
  {
   "cell_type": "code",
   "execution_count": 6,
   "id": "c2a51dde",
   "metadata": {},
   "outputs": [
    {
     "name": "stdout",
     "output_type": "stream",
     "text": [
      "Kaduna, Nigeria\n",
      "Edo, Nigeria\n",
      "Kogi, Nigeria\n",
      "Adamawa, Nigeria\n",
      "Kebbi, Nigeria\n",
      "Imo, Nigeria\n",
      "Lagos, Lagos Island, Lagos, 100242, Nigeria\n"
     ]
    }
   ],
   "source": [
    "state_location = []\n",
    "for state in df[\"State\"].unique():\n",
    "    locations = goelocator.geocode(state) \n",
    "    print(locations)\n",
    "    state_location.append(locations)"
   ]
  },
  {
   "cell_type": "code",
   "execution_count": 20,
   "id": "8255379e",
   "metadata": {},
   "outputs": [
    {
     "data": {
      "text/plain": [
       "[Location(Kaduna, Nigeria, (10.3825318, 7.8533226, 0.0)),\n",
       " Location(Edo, Nigeria, (6.6076575, 5.9722713, 0.0)),\n",
       " Location(Kogi, Nigeria, (7.7949602, 6.6868669, 0.0)),\n",
       " Location(Adamawa, Nigeria, (9.5129772, 12.3881887, 0.0)),\n",
       " Location(Kebbi, Nigeria, (11.4167574, 4.1074545, 0.0)),\n",
       " Location(Imo, Nigeria, (5.5859456, 7.0669651, 0.0)),\n",
       " Location(Lagos, Lagos Island, Lagos, 100242, Nigeria, (6.4550575, 3.3941795, 0.0))]"
      ]
     },
     "execution_count": 20,
     "metadata": {},
     "output_type": "execute_result"
    }
   ],
   "source": [
    "state_location"
   ]
  },
  {
   "cell_type": "code",
   "execution_count": 39,
   "id": "96504303",
   "metadata": {},
   "outputs": [],
   "source": [
    "for item in df[\"State\"].values:\n",
    "    if item in state_location:\n",
    "        df[\"location\"] = state_location\n",
    "        print(df[\"location\"])"
   ]
  },
  {
   "cell_type": "code",
   "execution_count": 41,
   "id": "0886130e",
   "metadata": {},
   "outputs": [
    {
     "name": "stdout",
     "output_type": "stream",
     "text": [
      "Kaduna, Nigeria\n",
      "Edo, Nigeria\n",
      "Kogi, Nigeria\n",
      "Adamawa, Nigeria\n",
      "Kebbi, Nigeria\n",
      "Imo, Nigeria\n",
      "Lagos, Lagos Island, Lagos, 100242, Nigeria\n"
     ]
    }
   ],
   "source": [
    "for item in state_location:\n",
    "    print(item)\n",
    "    \n",
    "  "
   ]
  },
  {
   "cell_type": "code",
   "execution_count": 28,
   "id": "11c90547",
   "metadata": {},
   "outputs": [
    {
     "data": {
      "text/plain": [
       "[Location(Kaduna, Nigeria, (10.3825318, 7.8533226, 0.0)),\n",
       " Location(Edo, Nigeria, (6.6076575, 5.9722713, 0.0)),\n",
       " Location(Kogi, Nigeria, (7.7949602, 6.6868669, 0.0)),\n",
       " Location(Adamawa, Nigeria, (9.5129772, 12.3881887, 0.0)),\n",
       " Location(Kebbi, Nigeria, (11.4167574, 4.1074545, 0.0)),\n",
       " Location(Imo, Nigeria, (5.5859456, 7.0669651, 0.0)),\n",
       " Location(Lagos, Lagos Island, Lagos, 100242, Nigeria, (6.4550575, 3.3941795, 0.0))]"
      ]
     },
     "execution_count": 28,
     "metadata": {},
     "output_type": "execute_result"
    }
   ],
   "source": [
    "state_location"
   ]
  },
  {
   "cell_type": "code",
   "execution_count": null,
   "id": "82e45bab",
   "metadata": {},
   "outputs": [],
   "source": []
  }
 ],
 "metadata": {
  "kernelspec": {
   "display_name": "Python 3 (ipykernel)",
   "language": "python",
   "name": "python3"
  },
  "language_info": {
   "codemirror_mode": {
    "name": "ipython",
    "version": 3
   },
   "file_extension": ".py",
   "mimetype": "text/x-python",
   "name": "python",
   "nbconvert_exporter": "python",
   "pygments_lexer": "ipython3",
   "version": "3.9.12"
  }
 },
 "nbformat": 4,
 "nbformat_minor": 5
}
