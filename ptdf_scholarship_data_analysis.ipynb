{
 "cells": [
  {
   "cell_type": "code",
   "execution_count": 1,
   "id": "977ec9d9",
   "metadata": {},
   "outputs": [],
   "source": [
    "#importing libraries\n",
    "import pandas as pd\n",
    "import numpy as np\n",
    "import matplotlib.pyplot as plt\n",
    "import plotly.express as px"
   ]
  },
  {
   "cell_type": "code",
   "execution_count": 2,
   "id": "68f44232",
   "metadata": {},
   "outputs": [],
   "source": [
    "#loading datasets\n",
    "df = pd.read_csv(\"ptdf_scholarship_data.csv\")"
   ]
  },
  {
   "cell_type": "code",
   "execution_count": 3,
   "id": "91f87d88",
   "metadata": {},
   "outputs": [
    {
     "name": "stdout",
     "output_type": "stream",
     "text": [
      "<class 'pandas.core.frame.DataFrame'>\n",
      "RangeIndex: 10130 entries, 0 to 10129\n",
      "Data columns (total 6 columns):\n",
      " #   Column            Non-Null Count  Dtype \n",
      "---  ------            --------------  ----- \n",
      " 0   Fullname          9210 non-null   object\n",
      " 1   Gender            7368 non-null   object\n",
      " 2   State             9210 non-null   object\n",
      " 3   Sponsorship_Type  9210 non-null   object\n",
      " 4   University        8289 non-null   object\n",
      " 5   Action            9210 non-null   object\n",
      "dtypes: object(6)\n",
      "memory usage: 475.0+ KB\n"
     ]
    }
   ],
   "source": [
    "df.info()"
   ]
  },
  {
   "cell_type": "code",
   "execution_count": 4,
   "id": "fe6d234d",
   "metadata": {},
   "outputs": [
    {
     "data": {
      "text/plain": [
       "array(['PhD', nan], dtype=object)"
      ]
     },
     "execution_count": 4,
     "metadata": {},
     "output_type": "execute_result"
    }
   ],
   "source": [
    "df.Sponsorship_Type.unique()"
   ]
  },
  {
   "cell_type": "code",
   "execution_count": 5,
   "id": "d57916bf",
   "metadata": {},
   "outputs": [
    {
     "data": {
      "text/plain": [
       "Fullname             920\n",
       "Gender              2762\n",
       "State                920\n",
       "Sponsorship_Type     920\n",
       "University          1841\n",
       "Action               920\n",
       "dtype: int64"
      ]
     },
     "execution_count": 5,
     "metadata": {},
     "output_type": "execute_result"
    }
   ],
   "source": [
    "df.isna().sum()"
   ]
  },
  {
   "cell_type": "code",
   "execution_count": 6,
   "id": "94f8697a",
   "metadata": {},
   "outputs": [
    {
     "data": {
      "text/plain": [
       "1"
      ]
     },
     "execution_count": 6,
     "metadata": {},
     "output_type": "execute_result"
    }
   ],
   "source": [
    "df.Gender.nunique()"
   ]
  },
  {
   "cell_type": "code",
   "execution_count": 7,
   "id": "a771d6e0",
   "metadata": {},
   "outputs": [
    {
     "data": {
      "text/plain": [
       "array([nan, 'University of Dundee', 'Durham University',\n",
       "       'Imperial College London', 'Robert Gordon University',\n",
       "       'University of Strathclyde', 'University of Birmingham'],\n",
       "      dtype=object)"
      ]
     },
     "execution_count": 7,
     "metadata": {},
     "output_type": "execute_result"
    }
   ],
   "source": [
    "df.University.unique()"
   ]
  },
  {
   "cell_type": "code",
   "execution_count": 8,
   "id": "d3c13f26",
   "metadata": {},
   "outputs": [
    {
     "data": {
      "text/plain": [
       "University of Dundee         2763\n",
       "Robert Gordon University     1842\n",
       "Durham University             921\n",
       "Imperial College London       921\n",
       "University of Strathclyde     921\n",
       "University of Birmingham      921\n",
       "Name: University, dtype: int64"
      ]
     },
     "execution_count": 8,
     "metadata": {},
     "output_type": "execute_result"
    }
   ],
   "source": [
    "df[\"University\"].value_counts()"
   ]
  },
  {
   "cell_type": "code",
   "execution_count": 9,
   "id": "3288ac89",
   "metadata": {},
   "outputs": [
    {
     "data": {
      "image/png": "[encoded data removed]",
      "text/plain": [
       "<Figure size 432x288 with 1 Axes>"
      ]
     },
     "metadata": {
      "needs_background": "light"
     },
     "output_type": "display_data"
    }
   ],
   "source": [
    "df[\"University\"].value_counts().plot(kind=\"barh\");"
   ]
  },
  {
   "cell_type": "markdown",
   "id": "cec6b438",
   "metadata": {},
   "source": [
    "##### Cleaning the data"
   ]
  },
  {
   "cell_type": "code",
   "execution_count": 10,
   "id": "e1d3050e",
   "metadata": {},
   "outputs": [],
   "source": [
    "df.drop(columns=[\"Gender\", \"Fullname\"], inplace=True)"
   ]
  },
  {
   "cell_type": "code",
   "execution_count": 11,
   "id": "878ea0da",
   "metadata": {},
   "outputs": [],
   "source": [
    "df.University.fillna(\"Not Know\", inplace =True)"
   ]
  },
  {
   "cell_type": "code",
   "execution_count": 12,
   "id": "d4b3edfa",
   "metadata": {},
   "outputs": [],
   "source": [
    "rows_with_nan = [index for index, row in df.iterrows() if row.isnull().any()]\n",
    "df.drop(rows_with_nan, inplace=True)"
   ]
  },
  {
   "cell_type": "code",
   "execution_count": 13,
   "id": "fdba8e3c",
   "metadata": {},
   "outputs": [
    {
     "data": {
      "text/plain": [
       "State               0\n",
       "Sponsorship_Type    0\n",
       "University          0\n",
       "Action              0\n",
       "dtype: int64"
      ]
     },
     "execution_count": 13,
     "metadata": {},
     "output_type": "execute_result"
    }
   ],
   "source": [
    "df.isnull().sum()"
   ]
  },
  {
   "cell_type": "code",
   "execution_count": 14,
   "id": "7e1cb70d",
   "metadata": {},
   "outputs": [],
   "source": [
    "df.to_csv(\"clean_ptdf_scholarship.csv\")"
   ]
  },
  {
   "cell_type": "markdown",
   "id": "c8098618",
   "metadata": {},
   "source": [
    "***After inspecting the data, I found that we had 920 empty rows, the gender column also had on unique value which is male. The University column also had 921 nulls. So I filled that with a place holder \"Not Know\". Since the gender column was having one unique value, I dropped that column and the Rank column. Also I filtered out the empty rows index and remove them. We now have a cleaned data ready for analysis. I also dropped the full name column***"
   ]
  },
  {
   "cell_type": "markdown",
   "id": "c8b10a13",
   "metadata": {},
   "source": [
    "### Exploratory Analysis\n",
    "\n",
    "#### Research Questions\n",
    "\n",
    "> - What is the university distribution of the scholarship\n",
    "\n",
    "> - What is the state distribution of the scholarhip\n"
   ]
  },
  {
   "cell_type": "code",
   "execution_count": 20,
   "id": "2e5941d8",
   "metadata": {},
   "outputs": [
    {
     "data": {
      "image/png": "[encoded data removed]",
      "text/plain": [
       "<Figure size 432x288 with 1 Axes>"
      ]
     },
     "metadata": {
      "needs_background": "light"
     },
     "output_type": "display_data"
    }
   ],
   "source": [
    "df[\"University\"].value_counts().plot(kind=\"barh\")\n",
    "plt.xlabel(\"University Name\")\n",
    "plt.ylabel(\"Counts of Scholarship\")\n",
    "plt.title(\"University Distribution of Scholarship\");"
   ]
  },
  {
   "cell_type": "code",
   "execution_count": 21,
   "id": "e9ce41c8",
   "metadata": {},
   "outputs": [
    {
     "data": {
      "image/png": "[encoded data removed]",
      "text/plain": [
       "<Figure size 432x288 with 1 Axes>"
      ]
     },
     "metadata": {
      "needs_background": "light"
     },
     "output_type": "display_data"
    }
   ],
   "source": [
    "df[\"State\"].value_counts().plot(kind=\"barh\")\n",
    "plt.xlabel(\"State Name\")\n",
    "plt.ylabel(\"Counts of Scholarship\")\n",
    "plt.title(\"State Distribution of Scholarship\");"
   ]
  },
  {
   "cell_type": "code",
   "execution_count": null,
   "id": "735594cc",
   "metadata": {},
   "outputs": [],
   "source": []
  }
 ],
 "metadata": {
  "kernelspec": {
   "display_name": "Python 3 (ipykernel)",
   "language": "python",
   "name": "python3"
  },
  "language_info": {
   "codemirror_mode": {
    "name": "ipython",
    "version": 3
   },
   "file_extension": ".py",
   "mimetype": "text/x-python",
   "name": "python",
   "nbconvert_exporter": "python",
   "pygments_lexer": "ipython3",
   "version": "3.9.12"
  }
 },
 "nbformat": 4,
 "nbformat_minor": 5
}
